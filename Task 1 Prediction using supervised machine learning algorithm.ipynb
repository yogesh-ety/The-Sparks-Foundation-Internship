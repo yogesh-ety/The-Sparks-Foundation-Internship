{
 "cells": [
  {
   "cell_type": "markdown",
   "id": "69772da7",
   "metadata": {},
   "source": [
    "<!-- ######## This is a comment, visible only in the source editor  ######## -->\n",
    "<h1 style=\"color: #ff9900; text-align: center;\"><em><strong>The sparks foundation</strong></em></h1>\n",
    "<p style=\"text-align: center;\"><strong>Intern: Data science and business analytics</strong></p>\n",
    "<hr />\n",
    "<h2 style=\"color: #ff2a00; text-align: center;\"><strong>Name : Yogesh.T</strong></h2>\n",
    "<h3 style=\"text-align: center;\"><strong>Task 1: Prediction using supervised machine learning algorithm</strong></h3>\n",
    "<h3 style=\"text-align: left;\">Queries :</h3>\n",
    "<div class=\"lm-Widget p-Widget jp-InputArea jp-Cell-inputArea\">\n",
    "<div class=\"lm-Widget p-Widget jp-RenderedHTMLCommon jp-RenderedMarkdown jp-MarkdownOutput\" data-mime-type=\"text/markdown\">\n",
    "<ul>\n",
    "<li>Predict the percentage of a student based on the number of study hours using <strong>linear regression</strong></li>\n",
    "<li>What will be the predicted score if a student studies for 9.25 hrs a day?</li>\n",
    "</ul>\n",
    "<h3>Dataset : <a href=\"http://bit.ly/w-data\" target=\"http://bit.ly/w-data\" rel=\"opener\">http://bit.ly/w-data</a></h3>\n",
    "<p></p>\n",
    "</div>\n",
    "</div>"
   ]
  },
  {
   "cell_type": "markdown",
   "id": "8637fee5-ffe3-42f3-b051-e650ac078e9a",
   "metadata": {},
   "source": [
    "## <center> 1. Implementation of linear regression using sklearn <center>"
   ]
  },
  {
   "cell_type": "markdown",
   "id": "060157b5-aacc-4ef3-bb0e-a630587145f6",
   "metadata": {
    "jp-MarkdownHeadingCollapsed": true,
    "tags": []
   },
   "source": [
    "### Importing the dataset"
   ]
  },
  {
   "cell_type": "code",
   "execution_count": 1,
   "id": "78830965-4cc1-4e4c-8fc9-d74512e80364",
   "metadata": {},
   "outputs": [],
   "source": [
    "import pandas as pd\n",
    "import matplotlib.pyplot as plt\n",
    "import seaborn as sns\n",
    "import requests\n",
    "import io\n",
    "%matplotlib inline\n",
    "pd.set_option('display.max_columns',None)"
   ]
  },
  {
   "cell_type": "code",
   "execution_count": 2,
   "id": "76c5cb23-5f9d-42e2-9fe4-35e03d0e35bd",
   "metadata": {},
   "outputs": [
    {
     "data": {
      "text/html": [
       "<div>\n",
       "<style scoped>\n",
       "    .dataframe tbody tr th:only-of-type {\n",
       "        vertical-align: middle;\n",
       "    }\n",
       "\n",
       "    .dataframe tbody tr th {\n",
       "        vertical-align: top;\n",
       "    }\n",
       "\n",
       "    .dataframe thead th {\n",
       "        text-align: right;\n",
       "    }\n",
       "</style>\n",
       "<table border=\"1\" class=\"dataframe\">\n",
       "  <thead>\n",
       "    <tr style=\"text-align: right;\">\n",
       "      <th></th>\n",
       "      <th>Hours</th>\n",
       "      <th>Scores</th>\n",
       "    </tr>\n",
       "  </thead>\n",
       "  <tbody>\n",
       "    <tr>\n",
       "      <th>0</th>\n",
       "      <td>2.5</td>\n",
       "      <td>21</td>\n",
       "    </tr>\n",
       "    <tr>\n",
       "      <th>1</th>\n",
       "      <td>5.1</td>\n",
       "      <td>47</td>\n",
       "    </tr>\n",
       "    <tr>\n",
       "      <th>2</th>\n",
       "      <td>3.2</td>\n",
       "      <td>27</td>\n",
       "    </tr>\n",
       "    <tr>\n",
       "      <th>3</th>\n",
       "      <td>8.5</td>\n",
       "      <td>75</td>\n",
       "    </tr>\n",
       "    <tr>\n",
       "      <th>4</th>\n",
       "      <td>3.5</td>\n",
       "      <td>30</td>\n",
       "    </tr>\n",
       "  </tbody>\n",
       "</table>\n",
       "</div>"
      ],
      "text/plain": [
       "   Hours  Scores\n",
       "0    2.5      21\n",
       "1    5.1      47\n",
       "2    3.2      27\n",
       "3    8.5      75\n",
       "4    3.5      30"
      ]
     },
     "execution_count": 2,
     "metadata": {},
     "output_type": "execute_result"
    }
   ],
   "source": [
    "data = pd.read_csv('http://bit.ly/w-data')\n",
    "data.head()"
   ]
  },
  {
   "cell_type": "markdown",
   "id": "a54e8c3b-e1d1-49bd-af30-9966771d003e",
   "metadata": {
    "jp-MarkdownHeadingCollapsed": true,
    "tags": []
   },
   "source": [
    "### Exploratory data analysis"
   ]
  },
  {
   "cell_type": "markdown",
   "id": "dd4d7194-c5ef-476e-9b5a-6dec5cb17194",
   "metadata": {},
   "source": [
    "#### Checking if there is any missing values"
   ]
  },
  {
   "cell_type": "code",
   "execution_count": 3,
   "id": "06601255-9bf0-4cc2-b150-7f9030b57adf",
   "metadata": {},
   "outputs": [
    {
     "name": "stdout",
     "output_type": "stream",
     "text": [
      "The number of missing values in Hours is 0\n",
      "The number of missing values in Scores is 0\n"
     ]
    }
   ],
   "source": [
    "for i in data.columns:\n",
    "    print(f'The number of missing values in {i} is {data[i].isnull().sum()}')"
   ]
  },
  {
   "cell_type": "raw",
   "id": "d311fc7b-e9d7-43a1-8b0f-2d1d69bb8b1c",
   "metadata": {},
   "source": [
    "Observation : So there are no missing values in both dependent as well as independent variables"
   ]
  },
  {
   "cell_type": "markdown",
   "id": "6126fd7c-4d15-482b-aba8-acedd9229119",
   "metadata": {},
   "source": [
    "#### Checking the correlation of the features"
   ]
  },
  {
   "cell_type": "code",
   "execution_count": 4,
   "id": "39ca79b4-295d-44dd-a71f-55573a1cdff1",
   "metadata": {},
   "outputs": [
    {
     "data": {
      "text/html": [
       "<div>\n",
       "<style scoped>\n",
       "    .dataframe tbody tr th:only-of-type {\n",
       "        vertical-align: middle;\n",
       "    }\n",
       "\n",
       "    .dataframe tbody tr th {\n",
       "        vertical-align: top;\n",
       "    }\n",
       "\n",
       "    .dataframe thead th {\n",
       "        text-align: right;\n",
       "    }\n",
       "</style>\n",
       "<table border=\"1\" class=\"dataframe\">\n",
       "  <thead>\n",
       "    <tr style=\"text-align: right;\">\n",
       "      <th></th>\n",
       "      <th>Hours</th>\n",
       "      <th>Scores</th>\n",
       "    </tr>\n",
       "  </thead>\n",
       "  <tbody>\n",
       "    <tr>\n",
       "      <th>Hours</th>\n",
       "      <td>1.000000</td>\n",
       "      <td>0.976191</td>\n",
       "    </tr>\n",
       "    <tr>\n",
       "      <th>Scores</th>\n",
       "      <td>0.976191</td>\n",
       "      <td>1.000000</td>\n",
       "    </tr>\n",
       "  </tbody>\n",
       "</table>\n",
       "</div>"
      ],
      "text/plain": [
       "           Hours    Scores\n",
       "Hours   1.000000  0.976191\n",
       "Scores  0.976191  1.000000"
      ]
     },
     "execution_count": 4,
     "metadata": {},
     "output_type": "execute_result"
    }
   ],
   "source": [
    "data.corr()"
   ]
  },
  {
   "cell_type": "markdown",
   "id": "acca6783-c6c7-4cb2-9fb5-be844ad6232c",
   "metadata": {},
   "source": [
    "#### Plotting the distribution of the independent variable"
   ]
  },
  {
   "cell_type": "code",
   "execution_count": 5,
   "id": "7355249c-ce35-482b-9f23-96d01cf7ff00",
   "metadata": {},
   "outputs": [
    {
     "data": {
      "text/plain": [
       "array([[<AxesSubplot:title={'center':'Hours'}>]], dtype=object)"
      ]
     },
     "execution_count": 5,
     "metadata": {},
     "output_type": "execute_result"
    },
    {
     "data": {
      "image/png": "[encoded data removed]",
      "text/plain": [
       "<Figure size 432x288 with 1 Axes>"
      ]
     },
     "metadata": {
      "needs_background": "light"
     },
     "output_type": "display_data"
    }
   ],
   "source": [
    "data[['Hours']].hist(bins=10)"
   ]
  },
  {
   "cell_type": "markdown",
   "id": "96ee634a-64b5-483d-a5d9-4058fcdb94a6",
   "metadata": {},
   "source": [
    "#### Checking if there is any outliers"
   ]
  },
  {
   "cell_type": "code",
   "execution_count": 6,
   "id": "32981887-740e-4295-b357-969e4118ca3e",
   "metadata": {},
   "outputs": [
    {
     "data": {
      "text/plain": [
       "<AxesSubplot:>"
      ]
     },
     "execution_count": 6,
     "metadata": {},
     "output_type": "execute_result"
    },
    {
     "data": {
      "image/png": "[encoded data removed]",
      "text/plain": [
       "<Figure size 432x288 with 1 Axes>"
      ]
     },
     "metadata": {
      "needs_background": "light"
     },
     "output_type": "display_data"
    }
   ],
   "source": [
    "data[['Hours']].plot.box()"
   ]
  },
  {
   "cell_type": "raw",
   "id": "5264c088-157e-49e6-8532-cddcc5e5bc12",
   "metadata": {},
   "source": [
    "Observation : There is no outliers regarding the 'Hours' independent variable"
   ]
  },
  {
   "cell_type": "markdown",
   "id": "62bc7dcb-7100-486c-8587-379c043cd65d",
   "metadata": {},
   "source": [
    "#### Plotting the independent variable"
   ]
  },
  {
   "cell_type": "code",
   "execution_count": 7,
   "id": "8f2ef2ef-3430-469f-920d-c562ab467ce6",
   "metadata": {},
   "outputs": [
    {
     "data": {
      "text/plain": [
       "Text(0, 0.5, 'Scores based on hours')"
      ]
     },
     "execution_count": 7,
     "metadata": {},
     "output_type": "execute_result"
    },
    {
     "data": {
      "image/png": "[encoded data removed]",
      "text/plain": [
       "<Figure size 432x288 with 1 Axes>"
      ]
     },
     "metadata": {
      "needs_background": "light"
     },
     "output_type": "display_data"
    }
   ],
   "source": [
    "plt.scatter(x=data[['Hours']],y=data[['Scores']],color='green',marker='x')\n",
    "plt.xlabel('Number of study hours')\n",
    "plt.ylabel('Scores based on hours')"
   ]
  },
  {
   "cell_type": "raw",
   "id": "2c44637c-f764-44f7-a74b-6f7eb380b7f2",
   "metadata": {},
   "source": [
    "Observation : There exists an positive linear relationship between the number of study hours and the scores\n",
    "              (As the number of study hour increases the score of the student also increases)"
   ]
  },
  {
   "cell_type": "markdown",
   "id": "5318e0a9-ff87-4014-9de0-4cee030690bd",
   "metadata": {
    "jp-MarkdownHeadingCollapsed": true,
    "tags": []
   },
   "source": [
    "### Data splitting"
   ]
  },
  {
   "cell_type": "code",
   "execution_count": 8,
   "id": "a4fbf75f-b5ff-4ed1-b585-465ac0ccfb7c",
   "metadata": {},
   "outputs": [
    {
     "name": "stdout",
     "output_type": "stream",
     "text": [
      "The shape of the training data : (17, 1),(17, 1)\n",
      "The shape of the testing data : (8, 1),(8, 1)\n"
     ]
    }
   ],
   "source": [
    "from sklearn.model_selection import train_test_split\n",
    "x_train,x_test,y_train,y_test = train_test_split(data[['Hours']], data[['Scores']], test_size = 0.3)\n",
    "print(f'The shape of the training data : {x_train.shape},{y_train.shape}')\n",
    "print(f'The shape of the testing data : {x_test.shape},{y_test.shape}')"
   ]
  },
  {
   "cell_type": "markdown",
   "id": "ef57c67b-3d76-45c0-84bc-4d60e638176e",
   "metadata": {
    "jp-MarkdownHeadingCollapsed": true,
    "tags": []
   },
   "source": [
    "### Model creation"
   ]
  },
  {
   "cell_type": "code",
   "execution_count": 9,
   "id": "727a3459-75cd-4d47-930b-c73ef473be20",
   "metadata": {},
   "outputs": [
    {
     "data": {
      "text/html": [
       "<style>#sk-container-id-1 {color: black;background-color: white;}#sk-container-id-1 pre{padding: 0;}#sk-container-id-1 div.sk-toggleable {background-color: white;}#sk-container-id-1 label.sk-toggleable__label {cursor: pointer;display: block;width: 100%;margin-bottom: 0;padding: 0.3em;box-sizing: border-box;text-align: center;}#sk-container-id-1 label.sk-toggleable__label-arrow:before {content: \"▸\";float: left;margin-right: 0.25em;color: #696969;}#sk-container-id-1 label.sk-toggleable__label-arrow:hover:before {color: black;}#sk-container-id-1 div.sk-estimator:hover label.sk-toggleable__label-arrow:before {color: black;}#sk-container-id-1 div.sk-toggleable__content {max-height: 0;max-width: 0;overflow: hidden;text-align: left;background-color: #f0f8ff;}#sk-container-id-1 div.sk-toggleable__content pre {margin: 0.2em;color: black;border-radius: 0.25em;background-color: #f0f8ff;}#sk-container-id-1 input.sk-toggleable__control:checked~div.sk-toggleable__content {max-height: 200px;max-width: 100%;overflow: auto;}#sk-container-id-1 input.sk-toggleable__control:checked~label.sk-toggleable__label-arrow:before {content: \"▾\";}#sk-container-id-1 div.sk-estimator input.sk-toggleable__control:checked~label.sk-toggleable__label {background-color: #d4ebff;}#sk-container-id-1 div.sk-label input.sk-toggleable__control:checked~label.sk-toggleable__label {background-color: #d4ebff;}#sk-container-id-1 input.sk-hidden--visually {border: 0;clip: rect(1px 1px 1px 1px);clip: rect(1px, 1px, 1px, 1px);height: 1px;margin: -1px;overflow: hidden;padding: 0;position: absolute;width: 1px;}#sk-container-id-1 div.sk-estimator {font-family: monospace;background-color: #f0f8ff;border: 1px dotted black;border-radius: 0.25em;box-sizing: border-box;margin-bottom: 0.5em;}#sk-container-id-1 div.sk-estimator:hover {background-color: #d4ebff;}#sk-container-id-1 div.sk-parallel-item::after {content: \"\";width: 100%;border-bottom: 1px solid gray;flex-grow: 1;}#sk-container-id-1 div.sk-label:hover label.sk-toggleable__label {background-color: #d4ebff;}#sk-container-id-1 div.sk-serial::before {content: \"\";position: absolute;border-left: 1px solid gray;box-sizing: border-box;top: 0;bottom: 0;left: 50%;z-index: 0;}#sk-container-id-1 div.sk-serial {display: flex;flex-direction: column;align-items: center;background-color: white;padding-right: 0.2em;padding-left: 0.2em;position: relative;}#sk-container-id-1 div.sk-item {position: relative;z-index: 1;}#sk-container-id-1 div.sk-parallel {display: flex;align-items: stretch;justify-content: center;background-color: white;position: relative;}#sk-container-id-1 div.sk-item::before, #sk-container-id-1 div.sk-parallel-item::before {content: \"\";position: absolute;border-left: 1px solid gray;box-sizing: border-box;top: 0;bottom: 0;left: 50%;z-index: -1;}#sk-container-id-1 div.sk-parallel-item {display: flex;flex-direction: column;z-index: 1;position: relative;background-color: white;}#sk-container-id-1 div.sk-parallel-item:first-child::after {align-self: flex-end;width: 50%;}#sk-container-id-1 div.sk-parallel-item:last-child::after {align-self: flex-start;width: 50%;}#sk-container-id-1 div.sk-parallel-item:only-child::after {width: 0;}#sk-container-id-1 div.sk-dashed-wrapped {border: 1px dashed gray;margin: 0 0.4em 0.5em 0.4em;box-sizing: border-box;padding-bottom: 0.4em;background-color: white;}#sk-container-id-1 div.sk-label label {font-family: monospace;font-weight: bold;display: inline-block;line-height: 1.2em;}#sk-container-id-1 div.sk-label-container {text-align: center;}#sk-container-id-1 div.sk-container {/* jupyter's `normalize.less` sets `[hidden] { display: none; }` but bootstrap.min.css set `[hidden] { display: none !important; }` so we also need the `!important` here to be able to override the default hidden behavior on the sphinx rendered scikit-learn.org. See: https://github.com/scikit-learn/scikit-learn/issues/21755 */display: inline-block !important;position: relative;}#sk-container-id-1 div.sk-text-repr-fallback {display: none;}</style><div id=\"sk-container-id-1\" class=\"sk-top-container\"><div class=\"sk-text-repr-fallback\"><pre>LinearRegression()</pre><b>In a Jupyter environment, please rerun this cell to show the HTML representation or trust the notebook. <br />On GitHub, the HTML representation is unable to render, please try loading this page with nbviewer.org.</b></div><div class=\"sk-container\" hidden><div class=\"sk-item\"><div class=\"sk-estimator sk-toggleable\"><input class=\"sk-toggleable__control sk-hidden--visually\" id=\"sk-estimator-id-1\" type=\"checkbox\" checked><label for=\"sk-estimator-id-1\" class=\"sk-toggleable__label sk-toggleable__label-arrow\">LinearRegression</label><div class=\"sk-toggleable__content\"><pre>LinearRegression()</pre></div></div></div></div></div>"
      ],
      "text/plain": [
       "LinearRegression()"
      ]
     },
     "execution_count": 9,
     "metadata": {},
     "output_type": "execute_result"
    }
   ],
   "source": [
    "from sklearn.linear_model import LinearRegression\n",
    "model = LinearRegression()\n",
    "model.fit(x_train,y_train)"
   ]
  },
  {
   "cell_type": "code",
   "execution_count": 10,
   "id": "d210a12e-a43e-489f-83ea-ea1b3c3ca701",
   "metadata": {},
   "outputs": [
    {
     "data": {
      "text/html": [
       "<style>#sk-container-id-2 {color: black;background-color: white;}#sk-container-id-2 pre{padding: 0;}#sk-container-id-2 div.sk-toggleable {background-color: white;}#sk-container-id-2 label.sk-toggleable__label {cursor: pointer;display: block;width: 100%;margin-bottom: 0;padding: 0.3em;box-sizing: border-box;text-align: center;}#sk-container-id-2 label.sk-toggleable__label-arrow:before {content: \"▸\";float: left;margin-right: 0.25em;color: #696969;}#sk-container-id-2 label.sk-toggleable__label-arrow:hover:before {color: black;}#sk-container-id-2 div.sk-estimator:hover label.sk-toggleable__label-arrow:before {color: black;}#sk-container-id-2 div.sk-toggleable__content {max-height: 0;max-width: 0;overflow: hidden;text-align: left;background-color: #f0f8ff;}#sk-container-id-2 div.sk-toggleable__content pre {margin: 0.2em;color: black;border-radius: 0.25em;background-color: #f0f8ff;}#sk-container-id-2 input.sk-toggleable__control:checked~div.sk-toggleable__content {max-height: 200px;max-width: 100%;overflow: auto;}#sk-container-id-2 input.sk-toggleable__control:checked~label.sk-toggleable__label-arrow:before {content: \"▾\";}#sk-container-id-2 div.sk-estimator input.sk-toggleable__control:checked~label.sk-toggleable__label {background-color: #d4ebff;}#sk-container-id-2 div.sk-label input.sk-toggleable__control:checked~label.sk-toggleable__label {background-color: #d4ebff;}#sk-container-id-2 input.sk-hidden--visually {border: 0;clip: rect(1px 1px 1px 1px);clip: rect(1px, 1px, 1px, 1px);height: 1px;margin: -1px;overflow: hidden;padding: 0;position: absolute;width: 1px;}#sk-container-id-2 div.sk-estimator {font-family: monospace;background-color: #f0f8ff;border: 1px dotted black;border-radius: 0.25em;box-sizing: border-box;margin-bottom: 0.5em;}#sk-container-id-2 div.sk-estimator:hover {background-color: #d4ebff;}#sk-container-id-2 div.sk-parallel-item::after {content: \"\";width: 100%;border-bottom: 1px solid gray;flex-grow: 1;}#sk-container-id-2 div.sk-label:hover label.sk-toggleable__label {background-color: #d4ebff;}#sk-container-id-2 div.sk-serial::before {content: \"\";position: absolute;border-left: 1px solid gray;box-sizing: border-box;top: 0;bottom: 0;left: 50%;z-index: 0;}#sk-container-id-2 div.sk-serial {display: flex;flex-direction: column;align-items: center;background-color: white;padding-right: 0.2em;padding-left: 0.2em;position: relative;}#sk-container-id-2 div.sk-item {position: relative;z-index: 1;}#sk-container-id-2 div.sk-parallel {display: flex;align-items: stretch;justify-content: center;background-color: white;position: relative;}#sk-container-id-2 div.sk-item::before, #sk-container-id-2 div.sk-parallel-item::before {content: \"\";position: absolute;border-left: 1px solid gray;box-sizing: border-box;top: 0;bottom: 0;left: 50%;z-index: -1;}#sk-container-id-2 div.sk-parallel-item {display: flex;flex-direction: column;z-index: 1;position: relative;background-color: white;}#sk-container-id-2 div.sk-parallel-item:first-child::after {align-self: flex-end;width: 50%;}#sk-container-id-2 div.sk-parallel-item:last-child::after {align-self: flex-start;width: 50%;}#sk-container-id-2 div.sk-parallel-item:only-child::after {width: 0;}#sk-container-id-2 div.sk-dashed-wrapped {border: 1px dashed gray;margin: 0 0.4em 0.5em 0.4em;box-sizing: border-box;padding-bottom: 0.4em;background-color: white;}#sk-container-id-2 div.sk-label label {font-family: monospace;font-weight: bold;display: inline-block;line-height: 1.2em;}#sk-container-id-2 div.sk-label-container {text-align: center;}#sk-container-id-2 div.sk-container {/* jupyter's `normalize.less` sets `[hidden] { display: none; }` but bootstrap.min.css set `[hidden] { display: none !important; }` so we also need the `!important` here to be able to override the default hidden behavior on the sphinx rendered scikit-learn.org. See: https://github.com/scikit-learn/scikit-learn/issues/21755 */display: inline-block !important;position: relative;}#sk-container-id-2 div.sk-text-repr-fallback {display: none;}</style><div id=\"sk-container-id-2\" class=\"sk-top-container\"><div class=\"sk-text-repr-fallback\"><pre>LinearRegression(n_jobs=1, normalize=False)</pre><b>In a Jupyter environment, please rerun this cell to show the HTML representation or trust the notebook. <br />On GitHub, the HTML representation is unable to render, please try loading this page with nbviewer.org.</b></div><div class=\"sk-container\" hidden><div class=\"sk-item\"><div class=\"sk-estimator sk-toggleable\"><input class=\"sk-toggleable__control sk-hidden--visually\" id=\"sk-estimator-id-2\" type=\"checkbox\" checked><label for=\"sk-estimator-id-2\" class=\"sk-toggleable__label sk-toggleable__label-arrow\">LinearRegression</label><div class=\"sk-toggleable__content\"><pre>LinearRegression(n_jobs=1, normalize=False)</pre></div></div></div></div></div>"
      ],
      "text/plain": [
       "LinearRegression(n_jobs=1, normalize=False)"
      ]
     },
     "execution_count": 10,
     "metadata": {},
     "output_type": "execute_result"
    }
   ],
   "source": [
    "LinearRegression(copy_X=True, fit_intercept=True, n_jobs=1, normalize=False)"
   ]
  },
  {
   "cell_type": "code",
   "execution_count": 11,
   "id": "f16ccdcd-8402-49c2-aba9-25a90a856e4f",
   "metadata": {},
   "outputs": [],
   "source": [
    "y_pred = model.predict(x_test)"
   ]
  },
  {
   "cell_type": "markdown",
   "id": "7472d9c0-a994-4114-b2ad-0205b7cda724",
   "metadata": {
    "jp-MarkdownHeadingCollapsed": true,
    "tags": []
   },
   "source": [
    "### Plotting the linear line fitted by the model"
   ]
  },
  {
   "cell_type": "code",
   "execution_count": 12,
   "id": "52f8382c-a3c4-4ae8-b59f-7a4bc6968b3c",
   "metadata": {},
   "outputs": [
    {
     "data": {
      "image/png": "[encoded data removed]",
      "text/plain": [
       "<Figure size 432x288 with 1 Axes>"
      ]
     },
     "metadata": {
      "needs_background": "light"
     },
     "output_type": "display_data"
    }
   ],
   "source": [
    "line = model.coef_[0] * data['Hours'] + model.intercept_\n",
    "plt.scatter(x=data[['Hours']],y=data[['Scores']],color='green',marker='x')\n",
    "plt.plot(data['Hours'],line,color='red')\n",
    "plt.xlabel('Number of study hours')\n",
    "plt.ylabel('Scores based on hours')\n",
    "plt.show()"
   ]
  },
  {
   "cell_type": "markdown",
   "id": "99e23d93-abfb-43af-a45a-c784a98d8549",
   "metadata": {
    "jp-MarkdownHeadingCollapsed": true,
    "tags": []
   },
   "source": [
    "### Evaluating the model"
   ]
  },
  {
   "cell_type": "code",
   "execution_count": 13,
   "id": "698e7d4a-f37b-4e14-ae3e-c3ea05e2a879",
   "metadata": {},
   "outputs": [
    {
     "name": "stdout",
     "output_type": "stream",
     "text": [
      "Mean_Squared_error : 28.805443863055764\n",
      "Root_Mean_Squared_error : 5.367070324027417\n",
      "The score of the model : 0.9531558171672154\n"
     ]
    }
   ],
   "source": [
    "from sklearn.metrics import mean_squared_error\n",
    "print(f'Mean_Squared_error : {mean_squared_error(y_test,y_pred)}')\n",
    "print(f'Root_Mean_Squared_error : {(mean_squared_error(y_test,y_pred)**0.5)}')\n",
    "print(f'The score of the model : {model.score(x_train,y_train)}')"
   ]
  },
  {
   "cell_type": "markdown",
   "id": "4d096ccf-bb5e-4460-adfb-f363d80c37ca",
   "metadata": {
    "tags": []
   },
   "source": [
    "### What will be the predicted score if a student studies for 9.25 hrs a day? "
   ]
  },
  {
   "cell_type": "code",
   "execution_count": 14,
   "id": "c40a6fff-b95c-4dde-b62c-cacd95a22ae6",
   "metadata": {},
   "outputs": [
    {
     "name": "stdout",
     "output_type": "stream",
     "text": [
      "If a student studies 9.25 hrs a day he will score : 92.30397966973362\n"
     ]
    }
   ],
   "source": [
    "d = pd.DataFrame(data=[9.25],columns=['Hours'])\n",
    "model_prediction = model.predict(d)\n",
    "print(f'If a student studies 9.25 hrs a day he will score : {model_prediction[0][0]}')"
   ]
  },
  {
   "cell_type": "markdown",
   "id": "885ee27a-a428-4d11-a79f-b7caca579e82",
   "metadata": {},
   "source": [
    "## <center> 2. Implementation of linear regression from scratch <center>"
   ]
  },
  {
   "cell_type": "markdown",
   "id": "3f22bbcc-d125-4cbf-b8c9-cd48a9d082b7",
   "metadata": {
    "jp-MarkdownHeadingCollapsed": true,
    "tags": []
   },
   "source": [
    "#### The basic equation for line equation\n",
    "$$ ybar = w*X + b $$\n",
    "#### The cost function for linear regression\n",
    "$$ J(w,b) = \\frac {\\sum_{i=1}^m (ybar^i - y^i)^2}{2m}$$\n",
    "#### The Gradient descend algorithm for linear regression\n",
    "$$ w := w - \\frac{\\alpha}{m} \\sum_{i=1}^m(ybar^i - y^i)*x^i$$\n",
    "$$ b := b -  \\frac{\\alpha}{m} \\sum_{i=1}^m(ybar^i - y^i)$$\n",
    "#### Evaluation metrics \n",
    "##### 1. Mean squared error : $$ \\frac{\\sum_{i=1}^m (ybar^i - y^i)^2}{m} $$\n",
    "##### 2. Root mean squared error : $$ \\sqrt {\\frac{\\sum_{i=1}^m (ybar^i - y^i)^2}{m}} $$\n",
    "##### 3. R2 error : $$ \\frac{\\sum_{i=1}^m (ybar^i - ymean^i)^2}{\\sum_{i=1}^m (y^i - ymean^i)^2} $$\n",
    "\n",
    "\n",
    "\n",
    "#### where,\n",
    "<center> w is the coefficient and b is the intercept of the line <center>\n",
    "<center> ybar is the predicted value <center>\n",
    "<center> m is the length of the X values <center>\n",
    "<center> $$ \\alpha $$ is the learning rate for gradient descent <center>"
   ]
  },
  {
   "cell_type": "markdown",
   "id": "a1ce9977-fb7c-4da8-adae-105bc5e9f1ac",
   "metadata": {},
   "source": [
    "### Declaring independent and dependent variable"
   ]
  },
  {
   "cell_type": "code",
   "execution_count": 15,
   "id": "1b49e8bc-3f63-4b0f-85be-2e9f999749ed",
   "metadata": {},
   "outputs": [
    {
     "name": "stdout",
     "output_type": "stream",
     "text": [
      "-----X-----\n",
      "0    2.5\n",
      "1    5.1\n",
      "2    3.2\n",
      "3    8.5\n",
      "4    3.5\n",
      "Name: Hours, dtype: float64\n",
      "-----y-----\n",
      "0    21\n",
      "1    47\n",
      "2    27\n",
      "3    75\n",
      "4    30\n",
      "Name: Scores, dtype: int64\n"
     ]
    }
   ],
   "source": [
    "X = data['Hours']\n",
    "y = data['Scores']\n",
    "print(f'-----X-----\\n{X.head()}')\n",
    "print(f'-----y-----\\n{y.head()}')"
   ]
  },
  {
   "cell_type": "markdown",
   "id": "cc36dd59-2f18-4a31-bc3c-2dc8d4dc41d8",
   "metadata": {},
   "source": [
    "### Plotting the independent variable vs the dependent variable"
   ]
  },
  {
   "cell_type": "code",
   "execution_count": 16,
   "id": "06bfce53-c808-47eb-9a18-0f526f449187",
   "metadata": {},
   "outputs": [
    {
     "data": {
      "text/plain": [
       "Text(0, 0.5, 'Scores based on hours')"
      ]
     },
     "execution_count": 16,
     "metadata": {},
     "output_type": "execute_result"
    },
    {
     "data": {
      "image/png": "[encoded data removed]",
      "text/plain": [
       "<Figure size 432x288 with 1 Axes>"
      ]
     },
     "metadata": {
      "needs_background": "light"
     },
     "output_type": "display_data"
    }
   ],
   "source": [
    "plt.scatter(X,y,color='green',marker='x')\n",
    "plt.xlabel('No. of study hours')\n",
    "plt.ylabel('Scores based on hours')"
   ]
  },
  {
   "cell_type": "raw",
   "id": "4fc1549a-d814-4ea5-ba39-1878ae1e0d36",
   "metadata": {},
   "source": [
    "Observation : There exists a linear relationship between the independent feature with the dependent feature"
   ]
  },
  {
   "cell_type": "markdown",
   "id": "dcfee969-bd75-4274-b80a-8be4b2bf0929",
   "metadata": {},
   "source": [
    "### Initializing the parameters"
   ]
  },
  {
   "cell_type": "code",
   "execution_count": 17,
   "id": "e12ed169-f2ad-4ddb-8ee5-0d3c9e3f614e",
   "metadata": {},
   "outputs": [],
   "source": [
    "w = 0 \n",
    "b = 0\n",
    "alpha = 0.01\n",
    "count = 1000\n",
    "m = float(len(X))"
   ]
  },
  {
   "cell_type": "markdown",
   "id": "77ce9cc6-68a0-474a-80dc-9e2ab2febc62",
   "metadata": {},
   "source": [
    "### Implementing linear regression"
   ]
  },
  {
   "cell_type": "code",
   "execution_count": 18,
   "id": "5173ff71-5daa-41a5-80e7-24318bee0810",
   "metadata": {},
   "outputs": [
    {
     "name": "stdout",
     "output_type": "stream",
     "text": [
      "The coefficient of the line :  9.79686727860809\n",
      "The intercept of the line :  2.3531789358052344\n"
     ]
    }
   ],
   "source": [
    "for i in range(count):\n",
    "    y_bar = w * X + b\n",
    "    w = w - (alpha/m) * sum(X * (y_bar-y))\n",
    "    b = b-((alpha/m)*(sum(y_bar-y)))\n",
    "\n",
    "print('The coefficient of the line : ',w)\n",
    "print('The intercept of the line : ',b)\n",
    "line = w *X + b"
   ]
  },
  {
   "cell_type": "markdown",
   "id": "b843dee7-2f10-429d-9130-d02c5f1c70e4",
   "metadata": {},
   "source": [
    "### Plotting the linear fitted by the calculated parameters"
   ]
  },
  {
   "cell_type": "code",
   "execution_count": 19,
   "id": "e30b54c4-3dde-4f5e-8b98-f0fad42a3d96",
   "metadata": {},
   "outputs": [
    {
     "data": {
      "image/png": "[encoded data removed]",
      "text/plain": [
       "<Figure size 432x288 with 1 Axes>"
      ]
     },
     "metadata": {
      "needs_background": "light"
     },
     "output_type": "display_data"
    }
   ],
   "source": [
    "plt.scatter(X,y,color='green',marker='x')\n",
    "plt.plot(X,line,color='red')\n",
    "plt.xlabel('Number of study hours')\n",
    "plt.ylabel('Scores based on hours')\n",
    "plt.show()"
   ]
  },
  {
   "cell_type": "markdown",
   "id": "1df6f4bd-078c-4566-816f-66b76d52615c",
   "metadata": {},
   "source": [
    "### Evaluation metrics"
   ]
  },
  {
   "cell_type": "code",
   "execution_count": 20,
   "id": "ced22b63-118c-483b-9bb7-887964f42328",
   "metadata": {},
   "outputs": [
    {
     "name": "stdout",
     "output_type": "stream",
     "text": [
      "The mean squared error of the model : 28.924766431201704\n",
      "The root mean squared error of the model : 5.378175009350449\n",
      "The R squared error of the model : 0.7905216799594315\n"
     ]
    }
   ],
   "source": [
    "# Implementing mean squared error from scratch\n",
    "def mean_squared_error(m,y,y_bar):\n",
    "    for i in range(int(m)):\n",
    "        mse = (y[i] - y_bar[i])/m\n",
    "    return mse*100\n",
    "\n",
    "# Implementing r2 error from scratch\n",
    "def r2_error(m,y,y_bar):\n",
    "    y_mean = sum(y)/len(y)\n",
    "    for i in range(len(y)):\n",
    "        r2_1 = y_bar[i] - y_mean\n",
    "        r2_2 = y[i] - y_mean\n",
    "    r2 = r2_1/r2_2\n",
    "    return r2\n",
    "\n",
    "print(f'The mean squared error of the model : {mean_squared_error(m,y,y_bar)}')\n",
    "print(f'The root mean squared error of the model : {(mean_squared_error(m,y,y_bar)**(1/2))}')\n",
    "print(f'The R squared error of the model : {r2_error(m,y,y_bar)}')"
   ]
  },
  {
   "cell_type": "markdown",
   "id": "5d979b2f-74c4-4113-bcd4-f4fe303243f7",
   "metadata": {},
   "source": [
    "### What will be the predicted score if a student studies for 9.25 hrs a day?"
   ]
  },
  {
   "cell_type": "code",
   "execution_count": 21,
   "id": "5fa740a7-2ff9-490a-8b99-41d2949579b5",
   "metadata": {},
   "outputs": [
    {
     "name": "stdout",
     "output_type": "stream",
     "text": [
      "If a student studies 9.25 hrs a day he will score : 92.97420126293007\n"
     ]
    }
   ],
   "source": [
    "y_bar1 = w* 9.25 + b\n",
    "print(f'If a student studies 9.25 hrs a day he will score : {y_bar1}')"
   ]
  }
 ],
 "metadata": {
  "kernelspec": {
   "display_name": "Python 3",
   "language": "python",
   "name": "python3"
  },
  "language_info": {
   "codemirror_mode": {
    "name": "ipython",
    "version": 3
   },
   "file_extension": ".py",
   "mimetype": "text/x-python",
   "name": "python",
   "nbconvert_exporter": "python",
   "pygments_lexer": "ipython3",
   "version": "3.8.8"
  }
 },
 "nbformat": 4,
 "nbformat_minor": 5
}
